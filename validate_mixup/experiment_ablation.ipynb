{
 "cells": [
  {
   "cell_type": "markdown",
   "metadata": {},
   "source": [
    "# Ablation study\n",
    "\n",
    "This notebook can be used to replicate the ablation study presented in the replication study. Despite the ablation study in the replication paper itself only being performed using the tree-cycles dataset and the PGExpainer, the code in this notebook can be used for the other datasets and GNNExplainer as well. \n",
    "\n",
    "The ablation study is first loads the configuration for a single model and a single datasets. By manipulating this configuration file iteratively all possible permutations are checked. \n",
    "\n",
    "**Be aware that running this notebook can take very long to run.** If a quicker version of the script is needed, we recommend replacing the first part of the 3rd code cell with the second part. This should still show the interesting parts of the evaluation. "
   ]
  },
  {
   "cell_type": "code",
   "execution_count": 1,
   "metadata": {},
   "outputs": [],
   "source": [
    "from ExplanationEvaluation.configs.selector import Selector\n",
    "from ExplanationEvaluation.tasks.replication import replication"
   ]
  },
  {
   "cell_type": "code",
   "execution_count": 2,
   "metadata": {},
   "outputs": [],
   "source": [
    "_dataset = 'treecycles' # One of: bashapes, bacommunity, treecycles, treegrids, ba2motifs, mutag\n",
    "_explainer = 'pgexplainer' # One of: pgexplainer, gnnexplainer\n",
    "\n",
    "\n",
    "# PGExplainer\n",
    "config_path = f\"./ExplanationEvaluation/configs/replication/explainers/{_explainer}/{_dataset}.json\"\n",
    "\n",
    "config = Selector(config_path).args.explainer"
   ]
  },
  {
   "cell_type": "code",
   "execution_count": 3,
   "metadata": {},
   "outputs": [],
   "source": [
    "# Permutations\n",
    "coef_size = [10, 1.0, 0.1, 0.01, 0.001, 0.0001, 0.0001]\n",
    "coef_entr = [10, 1.0, 0.1, 0.01, 0.001, 0.0001, 0.0001]\n",
    "\n",
    "### QUICKER VERSION\n",
    "# coef_size = [1.0, 0.01, 0.0001]\n",
    "# coef_entr = [1.0, 0.01, 0.0001]\n",
    "# config.seeds = [0]"
   ]
  },
  {
   "cell_type": "code",
   "execution_count": null,
   "metadata": {},
   "outputs": [
    {
     "name": "stderr",
     "output_type": "stream",
     "text": [
      "\r",
      "  0%|          | 0/20 [00:00<?, ?it/s]"
     ]
    },
    {
     "name": "stdout",
     "output_type": "stream",
     "text": [
      "10 10\n",
      "Loading syn3 dataset\n",
      "This model obtained: Train Acc: 0.9425, Val Acc: 0.9770, Test Acc: 0.9432.\n",
      "range(511, 871, 6)\n",
      "Test\n",
      "tensor([[  0,   0,   0,  ..., 869, 870, 870],\n",
      "        [  1,   2, 511,  ..., 870, 865, 869]])\n",
      "Training Explainer\n"
     ]
    },
    {
     "name": "stderr",
     "output_type": "stream",
     "text": [
      "100%|██████████| 20/20 [00:15<00:00,  1.26it/s]\n",
      "100%|██████████| 60/60 [00:00<00:00, 161.21it/s]\n",
      "  0%|          | 0/20 [00:00<?, ?it/s]"
     ]
    },
    {
     "name": "stdout",
     "output_type": "stream",
     "text": [
      "score: 0.7767574956438141\n",
      "time_elased: 6.22796614964803\n",
      "tensor([[  0,   0,   0,  ..., 869, 870, 870],\n",
      "        [  1,   2, 511,  ..., 870, 865, 869]])\n",
      "Training Explainer\n"
     ]
    },
    {
     "name": "stderr",
     "output_type": "stream",
     "text": [
      "100%|██████████| 20/20 [00:13<00:00,  1.43it/s]\n",
      "100%|██████████| 60/60 [00:00<00:00, 164.10it/s]\n",
      "  0%|          | 0/20 [00:00<?, ?it/s]"
     ]
    },
    {
     "name": "stdout",
     "output_type": "stream",
     "text": [
      "score: 0.7623430270984799\n",
      "time_elased: 6.117300192515055\n",
      "tensor([[  0,   0,   0,  ..., 869, 870, 870],\n",
      "        [  1,   2, 511,  ..., 870, 865, 869]])\n",
      "Training Explainer\n"
     ]
    },
    {
     "name": "stderr",
     "output_type": "stream",
     "text": [
      "100%|██████████| 20/20 [00:12<00:00,  1.56it/s]\n",
      "100%|██████████| 60/60 [00:00<00:00, 187.31it/s]\n",
      "  0%|          | 0/20 [00:00<?, ?it/s]"
     ]
    },
    {
     "name": "stdout",
     "output_type": "stream",
     "text": [
      "score: 0.7407979330649522\n",
      "time_elased: 5.373450120290121\n",
      "tensor([[  0,   0,   0,  ..., 869, 870, 870],\n",
      "        [  1,   2, 511,  ..., 870, 865, 869]])\n",
      "Training Explainer\n"
     ]
    },
    {
     "name": "stderr",
     "output_type": "stream",
     "text": [
      "100%|██████████| 20/20 [00:13<00:00,  1.50it/s]\n",
      "100%|██████████| 60/60 [00:00<00:00, 173.04it/s]\n",
      "  0%|          | 0/20 [00:00<?, ?it/s]"
     ]
    },
    {
     "name": "stdout",
     "output_type": "stream",
     "text": [
      "score: 0.7857342426245268\n",
      "time_elased: 5.801796913146973\n",
      "tensor([[  0,   0,   0,  ..., 869, 870, 870],\n",
      "        [  1,   2, 511,  ..., 870, 865, 869]])\n",
      "Training Explainer\n"
     ]
    },
    {
     "name": "stderr",
     "output_type": "stream",
     "text": [
      "100%|██████████| 20/20 [00:13<00:00,  1.50it/s]\n",
      "100%|██████████| 60/60 [00:00<00:00, 166.07it/s]\n",
      "  0%|          | 0/20 [00:00<?, ?it/s]"
     ]
    },
    {
     "name": "stdout",
     "output_type": "stream",
     "text": [
      "score: 0.7578201045484587\n",
      "time_elased: 6.045019626617432\n",
      "tensor([[  0,   0,   0,  ..., 869, 870, 870],\n",
      "        [  1,   2, 511,  ..., 870, 865, 869]])\n",
      "Training Explainer\n"
     ]
    },
    {
     "name": "stderr",
     "output_type": "stream",
     "text": [
      "100%|██████████| 20/20 [00:13<00:00,  1.50it/s]\n",
      "100%|██████████| 60/60 [00:00<00:00, 181.14it/s]\n",
      "  0%|          | 0/20 [00:00<?, ?it/s]"
     ]
    },
    {
     "name": "stdout",
     "output_type": "stream",
     "text": [
      "score: 0.7450009012798173\n",
      "time_elased: 5.544026692708333\n",
      "tensor([[  0,   0,   0,  ..., 869, 870, 870],\n",
      "        [  1,   2, 511,  ..., 870, 865, 869]])\n",
      "Training Explainer\n"
     ]
    },
    {
     "name": "stderr",
     "output_type": "stream",
     "text": [
      "100%|██████████| 20/20 [00:13<00:00,  1.53it/s]\n",
      "100%|██████████| 60/60 [00:00<00:00, 156.70it/s]\n",
      "  0%|          | 0/20 [00:00<?, ?it/s]"
     ]
    },
    {
     "name": "stdout",
     "output_type": "stream",
     "text": [
      "score: 0.7512002042900919\n",
      "time_elased: 6.418248017628987\n",
      "tensor([[  0,   0,   0,  ..., 869, 870, 870],\n",
      "        [  1,   2, 511,  ..., 870, 865, 869]])\n",
      "Training Explainer\n"
     ]
    },
    {
     "name": "stderr",
     "output_type": "stream",
     "text": [
      "100%|██████████| 20/20 [00:13<00:00,  1.53it/s]\n",
      "100%|██████████| 60/60 [00:00<00:00, 167.76it/s]\n",
      "  0%|          | 0/20 [00:00<?, ?it/s]"
     ]
    },
    {
     "name": "stdout",
     "output_type": "stream",
     "text": [
      "score: 0.7813029501892688\n",
      "time_elased: 5.9842030207316075\n",
      "tensor([[  0,   0,   0,  ..., 869, 870, 870],\n",
      "        [  1,   2, 511,  ..., 870, 865, 869]])\n",
      "Training Explainer\n"
     ]
    },
    {
     "name": "stderr",
     "output_type": "stream",
     "text": [
      "100%|██████████| 20/20 [00:12<00:00,  1.62it/s]\n",
      "100%|██████████| 60/60 [00:00<00:00, 169.11it/s]\n",
      "  0%|          | 0/20 [00:00<?, ?it/s]"
     ]
    },
    {
     "name": "stdout",
     "output_type": "stream",
     "text": [
      "score: 0.7564576698912454\n",
      "time_elased: 5.9391458829243975\n",
      "tensor([[  0,   0,   0,  ..., 869, 870, 870],\n",
      "        [  1,   2, 511,  ..., 870, 865, 869]])\n",
      "Training Explainer\n"
     ]
    },
    {
     "name": "stderr",
     "output_type": "stream",
     "text": [
      "100%|██████████| 20/20 [00:13<00:00,  1.46it/s]\n",
      "100%|██████████| 60/60 [00:00<00:00, 177.83it/s]\n",
      "  0%|          | 0/20 [00:00<?, ?it/s]"
     ]
    },
    {
     "name": "stdout",
     "output_type": "stream",
     "text": [
      "score: 0.7608243706062608\n",
      "time_elased: 5.645402272542317\n",
      "10 1.0\n",
      "Loading syn3 dataset\n",
      "This model obtained: Train Acc: 0.9425, Val Acc: 0.9770, Test Acc: 0.9432.\n",
      "range(511, 871, 6)\n",
      "Test\n",
      "tensor([[  0,   0,   0,  ..., 869, 870, 870],\n",
      "        [  1,   2, 511,  ..., 870, 865, 869]])\n",
      "Training Explainer\n"
     ]
    },
    {
     "name": "stderr",
     "output_type": "stream",
     "text": [
      "100%|██████████| 20/20 [00:13<00:00,  1.51it/s]\n",
      "100%|██████████| 60/60 [00:00<00:00, 170.09it/s]\n",
      "  0%|          | 0/20 [00:00<?, ?it/s]"
     ]
    },
    {
     "name": "stdout",
     "output_type": "stream",
     "text": [
      "score: 0.7767274529832362\n",
      "time_elased: 5.9017856915791835\n",
      "tensor([[  0,   0,   0,  ..., 869, 870, 870],\n",
      "        [  1,   2, 511,  ..., 870, 865, 869]])\n",
      "Training Explainer\n"
     ]
    },
    {
     "name": "stderr",
     "output_type": "stream",
     "text": [
      "100%|██████████| 20/20 [00:13<00:00,  1.53it/s]\n",
      "100%|██████████| 60/60 [00:00<00:00, 172.54it/s]\n",
      "  0%|          | 0/20 [00:00<?, ?it/s]"
     ]
    },
    {
     "name": "stdout",
     "output_type": "stream",
     "text": [
      "score: 0.7623084780388151\n",
      "time_elased: 5.828583240509033\n",
      "tensor([[  0,   0,   0,  ..., 869, 870, 870],\n",
      "        [  1,   2, 511,  ..., 870, 865, 869]])\n",
      "Training Explainer\n"
     ]
    },
    {
     "name": "stderr",
     "output_type": "stream",
     "text": [
      "100%|██████████| 20/20 [00:12<00:00,  1.56it/s]\n",
      "100%|██████████| 60/60 [00:00<00:00, 168.54it/s]\n",
      "  0%|          | 0/20 [00:00<?, ?it/s]"
     ]
    },
    {
     "name": "stdout",
     "output_type": "stream",
     "text": [
      "score: 0.7407393498768251\n",
      "time_elased: 5.962534745534262\n",
      "tensor([[  0,   0,   0,  ..., 869, 870, 870],\n",
      "        [  1,   2, 511,  ..., 870, 865, 869]])\n",
      "Training Explainer\n"
     ]
    },
    {
     "name": "stderr",
     "output_type": "stream",
     "text": [
      "100%|██████████| 20/20 [00:12<00:00,  1.57it/s]\n",
      "100%|██████████| 60/60 [00:00<00:00, 173.87it/s]\n",
      "  0%|          | 0/20 [00:00<?, ?it/s]"
     ]
    },
    {
     "name": "stdout",
     "output_type": "stream",
     "text": [
      "score: 0.7857297362254401\n",
      "time_elased: 5.779552459716797\n",
      "tensor([[  0,   0,   0,  ..., 869, 870, 870],\n",
      "        [  1,   2, 511,  ..., 870, 865, 869]])\n",
      "Training Explainer\n"
     ]
    },
    {
     "name": "stderr",
     "output_type": "stream",
     "text": [
      "100%|██████████| 20/20 [00:12<00:00,  1.60it/s]\n",
      "100%|██████████| 60/60 [00:00<00:00, 176.67it/s]\n",
      "  0%|          | 0/20 [00:00<?, ?it/s]"
     ]
    },
    {
     "name": "stdout",
     "output_type": "stream",
     "text": [
      "score: 0.7577645256263895\n",
      "time_elased: 5.690765380859375\n",
      "tensor([[  0,   0,   0,  ..., 869, 870, 870],\n",
      "        [  1,   2, 511,  ..., 870, 865, 869]])\n",
      "Training Explainer\n"
     ]
    },
    {
     "name": "stderr",
     "output_type": "stream",
     "text": [
      "100%|██████████| 20/20 [00:12<00:00,  1.61it/s]\n",
      "100%|██████████| 60/60 [00:00<00:00, 176.19it/s]\n",
      "  0%|          | 0/20 [00:00<?, ?it/s]"
     ]
    },
    {
     "name": "stdout",
     "output_type": "stream",
     "text": [
      "score: 0.744975365018326\n",
      "time_elased: 5.697433153788249\n",
      "tensor([[  0,   0,   0,  ..., 869, 870, 870],\n",
      "        [  1,   2, 511,  ..., 870, 865, 869]])\n",
      "Training Explainer\n"
     ]
    },
    {
     "name": "stderr",
     "output_type": "stream",
     "text": [
      "100%|██████████| 20/20 [00:11<00:00,  1.67it/s]\n",
      "100%|██████████| 60/60 [00:00<00:00, 186.62it/s]\n",
      "  0%|          | 0/20 [00:00<?, ?it/s]"
     ]
    },
    {
     "name": "stdout",
     "output_type": "stream",
     "text": [
      "score: 0.7512317490836988\n",
      "time_elased: 5.381381511688232\n",
      "tensor([[  0,   0,   0,  ..., 869, 870, 870],\n",
      "        [  1,   2, 511,  ..., 870, 865, 869]])\n",
      "Training Explainer\n"
     ]
    },
    {
     "name": "stderr",
     "output_type": "stream",
     "text": [
      "100%|██████████| 20/20 [00:12<00:00,  1.61it/s]\n",
      "100%|██████████| 60/60 [00:00<00:00, 176.70it/s]\n",
      "  0%|          | 0/20 [00:00<?, ?it/s]"
     ]
    },
    {
     "name": "stdout",
     "output_type": "stream",
     "text": [
      "score: 0.7812879288589798\n",
      "time_elased: 5.683330694834391\n",
      "tensor([[  0,   0,   0,  ..., 869, 870, 870],\n",
      "        [  1,   2, 511,  ..., 870, 865, 869]])\n",
      "Training Explainer\n"
     ]
    },
    {
     "name": "stderr",
     "output_type": "stream",
     "text": [
      "100%|██████████| 20/20 [00:13<00:00,  1.50it/s]\n",
      "100%|██████████| 60/60 [00:00<00:00, 174.83it/s]\n",
      "  0%|          | 0/20 [00:00<?, ?it/s]"
     ]
    },
    {
     "name": "stdout",
     "output_type": "stream",
     "text": [
      "score: 0.7564321336297543\n",
      "time_elased: 5.742899576822917\n",
      "tensor([[  0,   0,   0,  ..., 869, 870, 870],\n",
      "        [  1,   2, 511,  ..., 870, 865, 869]])\n",
      "Training Explainer\n"
     ]
    },
    {
     "name": "stderr",
     "output_type": "stream",
     "text": [
      "100%|██████████| 20/20 [00:13<00:00,  1.53it/s]\n",
      "100%|██████████| 60/60 [00:00<00:00, 161.82it/s]\n",
      "  0%|          | 0/20 [00:00<?, ?it/s]"
     ]
    },
    {
     "name": "stdout",
     "output_type": "stream",
     "text": [
      "score: 0.7607237276933245\n",
      "time_elased: 6.203854084014893\n",
      "10 0.1\n",
      "Loading syn3 dataset\n",
      "This model obtained: Train Acc: 0.9425, Val Acc: 0.9770, Test Acc: 0.9432.\n",
      "range(511, 871, 6)\n",
      "Test\n",
      "tensor([[  0,   0,   0,  ..., 869, 870, 870],\n",
      "        [  1,   2, 511,  ..., 870, 865, 869]])\n",
      "Training Explainer\n"
     ]
    },
    {
     "name": "stderr",
     "output_type": "stream",
     "text": [
      "100%|██████████| 20/20 [00:14<00:00,  1.42it/s]\n",
      "100%|██████████| 60/60 [00:00<00:00, 118.08it/s]\n",
      "  0%|          | 0/20 [00:00<?, ?it/s]"
     ]
    },
    {
     "name": "stdout",
     "output_type": "stream",
     "text": [
      "score: 0.7767229465841494\n",
      "time_elased: 8.506755034128824\n",
      "tensor([[  0,   0,   0,  ..., 869, 870, 870],\n",
      "        [  1,   2, 511,  ..., 870, 865, 869]])\n",
      "Training Explainer\n"
     ]
    },
    {
     "name": "stderr",
     "output_type": "stream",
     "text": [
      "100%|██████████| 20/20 [00:15<00:00,  1.30it/s]\n",
      "100%|██████████| 60/60 [00:00<00:00, 170.85it/s]\n",
      "  0%|          | 0/20 [00:00<?, ?it/s]"
     ]
    },
    {
     "name": "stdout",
     "output_type": "stream",
     "text": [
      "score: 0.7623024695066996\n",
      "time_elased: 5.882167816162109\n",
      "tensor([[  0,   0,   0,  ..., 869, 870, 870],\n",
      "        [  1,   2, 511,  ..., 870, 865, 869]])\n",
      "Training Explainer\n"
     ]
    },
    {
     "name": "stderr",
     "output_type": "stream",
     "text": [
      "100%|██████████| 20/20 [00:12<00:00,  1.60it/s]\n",
      "100%|██████████| 60/60 [00:00<00:00, 190.91it/s]\n",
      "  0%|          | 0/20 [00:00<?, ?it/s]"
     ]
    },
    {
     "name": "stdout",
     "output_type": "stream",
     "text": [
      "score: 0.7407333413447094\n",
      "time_elased: 5.261349678039551\n",
      "tensor([[  0,   0,   0,  ..., 869, 870, 870],\n",
      "        [  1,   2, 511,  ..., 870, 865, 869]])\n",
      "Training Explainer\n"
     ]
    },
    {
     "name": "stderr",
     "output_type": "stream",
     "text": [
      "100%|██████████| 20/20 [00:12<00:00,  1.65it/s]\n",
      "100%|██████████| 60/60 [00:00<00:00, 161.15it/s]\n",
      "  0%|          | 0/20 [00:00<?, ?it/s]"
     ]
    },
    {
     "name": "stdout",
     "output_type": "stream",
     "text": [
      "score: 0.7857327404914978\n",
      "time_elased: 6.248684724171957\n",
      "tensor([[  0,   0,   0,  ..., 869, 870, 870],\n",
      "        [  1,   2, 511,  ..., 870, 865, 869]])\n",
      "Training Explainer\n"
     ]
    },
    {
     "name": "stderr",
     "output_type": "stream",
     "text": [
      "100%|██████████| 20/20 [00:12<00:00,  1.61it/s]\n",
      "100%|██████████| 60/60 [00:00<00:00, 188.30it/s]\n",
      "  0%|          | 0/20 [00:00<?, ?it/s]"
     ]
    },
    {
     "name": "stdout",
     "output_type": "stream",
     "text": [
      "score: 0.7577510064291294\n",
      "time_elased: 5.341231822967529\n",
      "tensor([[  0,   0,   0,  ..., 869, 870, 870],\n",
      "        [  1,   2, 511,  ..., 870, 865, 869]])\n",
      "Training Explainer\n"
     ]
    },
    {
     "name": "stderr",
     "output_type": "stream",
     "text": [
      "100%|██████████| 20/20 [00:12<00:00,  1.62it/s]\n",
      "100%|██████████| 60/60 [00:00<00:00, 188.09it/s]\n",
      "  0%|          | 0/20 [00:00<?, ?it/s]"
     ]
    },
    {
     "name": "stdout",
     "output_type": "stream",
     "text": [
      "score: 0.7449753650183261\n",
      "time_elased: 5.341136455535889\n",
      "tensor([[  0,   0,   0,  ..., 869, 870, 870],\n",
      "        [  1,   2, 511,  ..., 870, 865, 869]])\n",
      "Training Explainer\n"
     ]
    },
    {
     "name": "stderr",
     "output_type": "stream",
     "text": [
      "100%|██████████| 20/20 [00:12<00:00,  1.59it/s]\n",
      "100%|██████████| 60/60 [00:00<00:00, 173.87it/s]\n",
      "  0%|          | 0/20 [00:00<?, ?it/s]"
     ]
    },
    {
     "name": "stdout",
     "output_type": "stream",
     "text": [
      "score: 0.7512317490836988\n",
      "time_elased: 5.782214800516764\n",
      "tensor([[  0,   0,   0,  ..., 869, 870, 870],\n",
      "        [  1,   2, 511,  ..., 870, 865, 869]])\n",
      "Training Explainer\n"
     ]
    },
    {
     "name": "stderr",
     "output_type": "stream",
     "text": [
      "100%|██████████| 20/20 [00:12<00:00,  1.61it/s]\n",
      "100%|██████████| 60/60 [00:00<00:00, 192.79it/s]\n",
      "  0%|          | 0/20 [00:00<?, ?it/s]"
     ]
    },
    {
     "name": "stdout",
     "output_type": "stream",
     "text": [
      "score: 0.7812879288589798\n",
      "time_elased: 5.213618278503418\n",
      "tensor([[  0,   0,   0,  ..., 869, 870, 870],\n",
      "        [  1,   2, 511,  ..., 870, 865, 869]])\n",
      "Training Explainer\n"
     ]
    },
    {
     "name": "stderr",
     "output_type": "stream",
     "text": [
      "100%|██████████| 20/20 [00:12<00:00,  1.62it/s]\n",
      "100%|██████████| 60/60 [00:00<00:00, 164.70it/s]\n",
      "  0%|          | 0/20 [00:00<?, ?it/s]"
     ]
    },
    {
     "name": "stdout",
     "output_type": "stream",
     "text": [
      "score: 0.7564216186985518\n",
      "time_elased: 6.094702084859212\n",
      "tensor([[  0,   0,   0,  ..., 869, 870, 870],\n",
      "        [  1,   2, 511,  ..., 870, 865, 869]])\n",
      "Training Explainer\n"
     ]
    },
    {
     "name": "stderr",
     "output_type": "stream",
     "text": [
      "100%|██████████| 20/20 [00:12<00:00,  1.59it/s]\n",
      "100%|██████████| 60/60 [00:00<00:00, 189.93it/s]\n",
      "  0%|          | 0/20 [00:00<?, ?it/s]"
     ]
    },
    {
     "name": "stdout",
     "output_type": "stream",
     "text": [
      "score: 0.7607147148951512\n",
      "time_elased: 5.294434229532878\n",
      "10 0.01\n",
      "Loading syn3 dataset\n",
      "This model obtained: Train Acc: 0.9425, Val Acc: 0.9770, Test Acc: 0.9432.\n",
      "range(511, 871, 6)\n",
      "Test\n",
      "tensor([[  0,   0,   0,  ..., 869, 870, 870],\n",
      "        [  1,   2, 511,  ..., 870, 865, 869]])\n",
      "Training Explainer\n"
     ]
    },
    {
     "name": "stderr",
     "output_type": "stream",
     "text": [
      "100%|██████████| 20/20 [00:11<00:00,  1.69it/s]\n",
      "100%|██████████| 60/60 [00:00<00:00, 188.53it/s]\n",
      "  0%|          | 0/20 [00:00<?, ?it/s]"
     ]
    },
    {
     "name": "stdout",
     "output_type": "stream",
     "text": [
      "score: 0.7767229465841495\n",
      "time_elased: 5.331599712371826\n",
      "tensor([[  0,   0,   0,  ..., 869, 870, 870],\n",
      "        [  1,   2, 511,  ..., 870, 865, 869]])\n",
      "Training Explainer\n"
     ]
    },
    {
     "name": "stderr",
     "output_type": "stream",
     "text": [
      "100%|██████████| 20/20 [00:12<00:00,  1.62it/s]\n",
      "100%|██████████| 60/60 [00:00<00:00, 189.13it/s]\n",
      "  0%|          | 0/20 [00:00<?, ?it/s]"
     ]
    },
    {
     "name": "stdout",
     "output_type": "stream",
     "text": [
      "score: 0.7622979631076128\n",
      "time_elased: 5.546549956003825\n",
      "tensor([[  0,   0,   0,  ..., 869, 870, 870],\n",
      "        [  1,   2, 511,  ..., 870, 865, 869]])\n",
      "Training Explainer\n"
     ]
    },
    {
     "name": "stderr",
     "output_type": "stream",
     "text": [
      "100%|██████████| 20/20 [00:12<00:00,  1.59it/s]\n",
      "100%|██████████| 60/60 [00:00<00:00, 188.02it/s]\n",
      "  0%|          | 0/20 [00:00<?, ?it/s]"
     ]
    },
    {
     "name": "stdout",
     "output_type": "stream",
     "text": [
      "score: 0.7407273328125938\n",
      "time_elased: 5.3564826647440595\n",
      "tensor([[  0,   0,   0,  ..., 869, 870, 870],\n",
      "        [  1,   2, 511,  ..., 870, 865, 869]])\n",
      "Training Explainer\n"
     ]
    },
    {
     "name": "stderr",
     "output_type": "stream",
     "text": [
      "100%|██████████| 20/20 [00:12<00:00,  1.58it/s]\n",
      "100%|██████████| 60/60 [00:00<00:00, 167.22it/s]\n",
      "  0%|          | 0/20 [00:00<?, ?it/s]"
     ]
    },
    {
     "name": "stdout",
     "output_type": "stream",
     "text": [
      "score: 0.785732740491498\n",
      "time_elased: 6.006546815236409\n",
      "tensor([[  0,   0,   0,  ..., 869, 870, 870],\n",
      "        [  1,   2, 511,  ..., 870, 865, 869]])\n",
      "Training Explainer\n"
     ]
    },
    {
     "name": "stderr",
     "output_type": "stream",
     "text": [
      "100%|██████████| 20/20 [00:12<00:00,  1.60it/s]\n",
      "100%|██████████| 60/60 [00:00<00:00, 187.75it/s]\n",
      "  0%|          | 0/20 [00:00<?, ?it/s]"
     ]
    },
    {
     "name": "stdout",
     "output_type": "stream",
     "text": [
      "score: 0.7577510064291294\n",
      "time_elased: 5.350085099538168\n",
      "tensor([[  0,   0,   0,  ..., 869, 870, 870],\n",
      "        [  1,   2, 511,  ..., 870, 865, 869]])\n",
      "Training Explainer\n"
     ]
    },
    {
     "name": "stderr",
     "output_type": "stream",
     "text": [
      "100%|██████████| 20/20 [00:12<00:00,  1.60it/s]\n",
      "100%|██████████| 60/60 [00:00<00:00, 190.09it/s]\n",
      "  0%|          | 0/20 [00:00<?, ?it/s]"
     ]
    },
    {
     "name": "stdout",
     "output_type": "stream",
     "text": [
      "score: 0.7449753650183261\n",
      "time_elased: 5.28570016225179\n",
      "tensor([[  0,   0,   0,  ..., 869, 870, 870],\n",
      "        [  1,   2, 511,  ..., 870, 865, 869]])\n",
      "Training Explainer\n"
     ]
    },
    {
     "name": "stderr",
     "output_type": "stream",
     "text": [
      "100%|██████████| 20/20 [00:12<00:00,  1.59it/s]\n",
      "100%|██████████| 60/60 [00:00<00:00, 176.56it/s]\n",
      "  0%|          | 0/20 [00:00<?, ?it/s]"
     ]
    },
    {
     "name": "stdout",
     "output_type": "stream",
     "text": [
      "score: 0.7512317490836988\n",
      "time_elased: 5.705416202545166\n",
      "tensor([[  0,   0,   0,  ..., 869, 870, 870],\n",
      "        [  1,   2, 511,  ..., 870, 865, 869]])\n",
      "Training Explainer\n"
     ]
    },
    {
     "name": "stderr",
     "output_type": "stream",
     "text": [
      "100%|██████████| 20/20 [00:12<00:00,  1.59it/s]\n",
      "100%|██████████| 60/60 [00:00<00:00, 177.11it/s]\n",
      "  0%|          | 0/20 [00:00<?, ?it/s]"
     ]
    },
    {
     "name": "stdout",
     "output_type": "stream",
     "text": [
      "score: 0.7812879288589798\n",
      "time_elased: 5.668318271636963\n",
      "tensor([[  0,   0,   0,  ..., 869, 870, 870],\n",
      "        [  1,   2, 511,  ..., 870, 865, 869]])\n",
      "Training Explainer\n"
     ]
    },
    {
     "name": "stderr",
     "output_type": "stream",
     "text": [
      "100%|██████████| 20/20 [00:12<00:00,  1.61it/s]\n",
      "100%|██████████| 60/60 [00:00<00:00, 169.89it/s]\n",
      "  0%|          | 0/20 [00:00<?, ?it/s]"
     ]
    },
    {
     "name": "stdout",
     "output_type": "stream",
     "text": [
      "score: 0.7564216186985521\n",
      "time_elased: 5.909633636474609\n",
      "tensor([[  0,   0,   0,  ..., 869, 870, 870],\n",
      "        [  1,   2, 511,  ..., 870, 865, 869]])\n",
      "Training Explainer\n"
     ]
    },
    {
     "name": "stderr",
     "output_type": "stream",
     "text": [
      "100%|██████████| 20/20 [00:12<00:00,  1.60it/s]\n",
      "100%|██████████| 60/60 [00:00<00:00, 161.15it/s]\n",
      "  0%|          | 0/20 [00:00<?, ?it/s]"
     ]
    },
    {
     "name": "stdout",
     "output_type": "stream",
     "text": [
      "score: 0.7607132127621222\n",
      "time_elased: 6.232631206512451\n",
      "10 0.001\n",
      "Loading syn3 dataset\n",
      "This model obtained: Train Acc: 0.9425, Val Acc: 0.9770, Test Acc: 0.9432.\n",
      "range(511, 871, 6)\n",
      "Test\n",
      "tensor([[  0,   0,   0,  ..., 869, 870, 870],\n",
      "        [  1,   2, 511,  ..., 870, 865, 869]])\n",
      "Training Explainer\n"
     ]
    },
    {
     "name": "stderr",
     "output_type": "stream",
     "text": [
      "100%|██████████| 20/20 [00:12<00:00,  1.60it/s]\n",
      "100%|██████████| 60/60 [00:00<00:00, 175.80it/s]\n",
      "  0%|          | 0/20 [00:00<?, ?it/s]"
     ]
    },
    {
     "name": "stdout",
     "output_type": "stream",
     "text": [
      "score: 0.7767229465841495\n",
      "time_elased: 5.710450808207193\n",
      "tensor([[  0,   0,   0,  ..., 869, 870, 870],\n",
      "        [  1,   2, 511,  ..., 870, 865, 869]])\n",
      "Training Explainer\n"
     ]
    },
    {
     "name": "stderr",
     "output_type": "stream",
     "text": [
      "100%|██████████| 20/20 [00:12<00:00,  1.59it/s]\n",
      "100%|██████████| 60/60 [00:00<00:00, 184.90it/s]\n",
      "  0%|          | 0/20 [00:00<?, ?it/s]"
     ]
    },
    {
     "name": "stdout",
     "output_type": "stream",
     "text": [
      "score: 0.7623002163071562\n",
      "time_elased: 5.432172616322836\n",
      "tensor([[  0,   0,   0,  ..., 869, 870, 870],\n",
      "        [  1,   2, 511,  ..., 870, 865, 869]])\n",
      "Training Explainer\n"
     ]
    },
    {
     "name": "stderr",
     "output_type": "stream",
     "text": [
      "100%|██████████| 20/20 [00:12<00:00,  1.62it/s]\n",
      "100%|██████████| 60/60 [00:00<00:00, 170.97it/s]\n",
      "  0%|          | 0/20 [00:00<?, ?it/s]"
     ]
    },
    {
     "name": "stdout",
     "output_type": "stream",
     "text": [
      "score: 0.7407273328125938\n",
      "time_elased: 5.87449868520101\n",
      "tensor([[  0,   0,   0,  ..., 869, 870, 870],\n",
      "        [  1,   2, 511,  ..., 870, 865, 869]])\n",
      "Training Explainer\n"
     ]
    },
    {
     "name": "stderr",
     "output_type": "stream",
     "text": [
      "100%|██████████| 20/20 [00:14<00:00,  1.39it/s]\n",
      "100%|██████████| 60/60 [00:00<00:00, 138.00it/s]\n",
      "  0%|          | 0/20 [00:00<?, ?it/s]"
     ]
    },
    {
     "name": "stdout",
     "output_type": "stream",
     "text": [
      "score: 0.7857327404914979\n",
      "time_elased: 7.274719079335531\n",
      "tensor([[  0,   0,   0,  ..., 869, 870, 870],\n",
      "        [  1,   2, 511,  ..., 870, 865, 869]])\n",
      "Training Explainer\n"
     ]
    },
    {
     "name": "stderr",
     "output_type": "stream",
     "text": [
      "100%|██████████| 20/20 [00:22<00:00,  1.12s/it]\n",
      "100%|██████████| 60/60 [00:00<00:00, 127.81it/s]\n",
      "  0%|          | 0/20 [00:00<?, ?it/s]"
     ]
    },
    {
     "name": "stdout",
     "output_type": "stream",
     "text": [
      "score: 0.7577510064291294\n",
      "time_elased: 7.975582281748455\n",
      "tensor([[  0,   0,   0,  ..., 869, 870, 870],\n",
      "        [  1,   2, 511,  ..., 870, 865, 869]])\n",
      "Training Explainer\n"
     ]
    },
    {
     "name": "stderr",
     "output_type": "stream",
     "text": [
      "100%|██████████| 20/20 [00:34<00:00,  1.74s/it]\n",
      "100%|██████████| 60/60 [00:00<00:00, 73.29it/s]\n",
      "  0%|          | 0/20 [00:00<?, ?it/s]"
     ]
    },
    {
     "name": "stdout",
     "output_type": "stream",
     "text": [
      "score: 0.744975365018326\n",
      "time_elased: 13.691818714141846\n",
      "tensor([[  0,   0,   0,  ..., 869, 870, 870],\n",
      "        [  1,   2, 511,  ..., 870, 865, 869]])\n",
      "Training Explainer\n"
     ]
    },
    {
     "name": "stderr",
     "output_type": "stream",
     "text": [
      "100%|██████████| 20/20 [00:18<00:00,  1.08it/s]\n",
      "100%|██████████| 60/60 [00:00<00:00, 116.96it/s]\n",
      "  0%|          | 0/20 [00:00<?, ?it/s]"
     ]
    },
    {
     "name": "stdout",
     "output_type": "stream",
     "text": [
      "score: 0.7512317490836988\n",
      "time_elased: 8.58219861984253\n",
      "tensor([[  0,   0,   0,  ..., 869, 870, 870],\n",
      "        [  1,   2, 511,  ..., 870, 865, 869]])\n",
      "Training Explainer\n"
     ]
    },
    {
     "name": "stderr",
     "output_type": "stream",
     "text": [
      "100%|██████████| 20/20 [00:18<00:00,  1.11it/s]\n",
      "100%|██████████| 60/60 [00:00<00:00, 127.39it/s]\n",
      "  0%|          | 0/20 [00:00<?, ?it/s]"
     ]
    },
    {
     "name": "stdout",
     "output_type": "stream",
     "text": [
      "score: 0.7812879288589798\n",
      "time_elased: 7.884248097737631\n",
      "tensor([[  0,   0,   0,  ..., 869, 870, 870],\n",
      "        [  1,   2, 511,  ..., 870, 865, 869]])\n",
      "Training Explainer\n"
     ]
    },
    {
     "name": "stderr",
     "output_type": "stream",
     "text": [
      "100%|██████████| 20/20 [00:18<00:00,  1.06it/s]\n",
      "100%|██████████| 60/60 [00:00<00:00, 121.30it/s]\n",
      "  0%|          | 0/20 [00:00<?, ?it/s]"
     ]
    },
    {
     "name": "stdout",
     "output_type": "stream",
     "text": [
      "score: 0.756421618698552\n",
      "time_elased: 8.278616269429525\n",
      "tensor([[  0,   0,   0,  ..., 869, 870, 870],\n",
      "        [  1,   2, 511,  ..., 870, 865, 869]])\n",
      "Training Explainer\n"
     ]
    },
    {
     "name": "stderr",
     "output_type": "stream",
     "text": [
      "100%|██████████| 20/20 [00:18<00:00,  1.10it/s]\n",
      "100%|██████████| 60/60 [00:00<00:00, 108.27it/s]\n",
      "  0%|          | 0/20 [00:00<?, ?it/s]"
     ]
    },
    {
     "name": "stdout",
     "output_type": "stream",
     "text": [
      "score: 0.7607132127621222\n",
      "time_elased: 9.281166394551596\n",
      "10 0.0001\n",
      "Loading syn3 dataset\n",
      "This model obtained: Train Acc: 0.9425, Val Acc: 0.9770, Test Acc: 0.9432.\n",
      "range(511, 871, 6)\n",
      "Test\n",
      "tensor([[  0,   0,   0,  ..., 869, 870, 870],\n",
      "        [  1,   2, 511,  ..., 870, 865, 869]])\n",
      "Training Explainer\n"
     ]
    },
    {
     "name": "stderr",
     "output_type": "stream",
     "text": [
      "100%|██████████| 20/20 [00:16<00:00,  1.21it/s]\n",
      "100%|██████████| 60/60 [00:00<00:00, 115.07it/s]\n",
      "  0%|          | 0/20 [00:00<?, ?it/s]"
     ]
    },
    {
     "name": "stdout",
     "output_type": "stream",
     "text": [
      "score: 0.7767229465841495\n",
      "time_elased: 8.718585968017578\n",
      "tensor([[  0,   0,   0,  ..., 869, 870, 870],\n",
      "        [  1,   2, 511,  ..., 870, 865, 869]])\n",
      "Training Explainer\n"
     ]
    },
    {
     "name": "stderr",
     "output_type": "stream",
     "text": [
      "100%|██████████| 20/20 [00:16<00:00,  1.23it/s]\n",
      "100%|██████████| 60/60 [00:00<00:00, 149.07it/s]\n",
      "  0%|          | 0/20 [00:00<?, ?it/s]"
     ]
    },
    {
     "name": "stdout",
     "output_type": "stream",
     "text": [
      "score: 0.7622979631076128\n",
      "time_elased: 6.749864419301351\n",
      "tensor([[  0,   0,   0,  ..., 869, 870, 870],\n",
      "        [  1,   2, 511,  ..., 870, 865, 869]])\n",
      "Training Explainer\n"
     ]
    },
    {
     "name": "stderr",
     "output_type": "stream",
     "text": [
      "100%|██████████| 20/20 [00:18<00:00,  1.11it/s]\n",
      "100%|██████████| 60/60 [00:00<00:00, 82.62it/s]\n",
      "  0%|          | 0/20 [00:00<?, ?it/s]"
     ]
    },
    {
     "name": "stdout",
     "output_type": "stream",
     "text": [
      "score: 0.7407273328125938\n",
      "time_elased: 12.156530221303305\n",
      "tensor([[  0,   0,   0,  ..., 869, 870, 870],\n",
      "        [  1,   2, 511,  ..., 870, 865, 869]])\n",
      "Training Explainer\n"
     ]
    },
    {
     "name": "stderr",
     "output_type": "stream",
     "text": [
      "100%|██████████| 20/20 [00:22<00:00,  1.11s/it]\n",
      "100%|██████████| 60/60 [00:00<00:00, 114.16it/s]\n",
      "  0%|          | 0/20 [00:00<?, ?it/s]"
     ]
    },
    {
     "name": "stdout",
     "output_type": "stream",
     "text": [
      "score: 0.7857327404914979\n",
      "time_elased: 8.788049221038818\n",
      "tensor([[  0,   0,   0,  ..., 869, 870, 870],\n",
      "        [  1,   2, 511,  ..., 870, 865, 869]])\n",
      "Training Explainer\n"
     ]
    },
    {
     "name": "stderr",
     "output_type": "stream",
     "text": [
      "100%|██████████| 20/20 [00:16<00:00,  1.25it/s]\n",
      "100%|██████████| 60/60 [00:00<00:00, 127.54it/s]\n",
      "  0%|          | 0/20 [00:00<?, ?it/s]"
     ]
    },
    {
     "name": "stdout",
     "output_type": "stream",
     "text": [
      "score: 0.7577510064291294\n",
      "time_elased: 7.869903246561687\n",
      "tensor([[  0,   0,   0,  ..., 869, 870, 870],\n",
      "        [  1,   2, 511,  ..., 870, 865, 869]])\n",
      "Training Explainer\n"
     ]
    },
    {
     "name": "stderr",
     "output_type": "stream",
     "text": [
      "100%|██████████| 20/20 [00:14<00:00,  1.41it/s]\n",
      "100%|██████████| 60/60 [00:00<00:00, 173.23it/s]\n",
      "  0%|          | 0/20 [00:00<?, ?it/s]"
     ]
    },
    {
     "name": "stdout",
     "output_type": "stream",
     "text": [
      "score: 0.744975365018326\n",
      "time_elased: 5.7964324951171875\n",
      "tensor([[  0,   0,   0,  ..., 869, 870, 870],\n",
      "        [  1,   2, 511,  ..., 870, 865, 869]])\n",
      "Training Explainer\n"
     ]
    },
    {
     "name": "stderr",
     "output_type": "stream",
     "text": [
      "100%|██████████| 20/20 [00:13<00:00,  1.53it/s]\n",
      "100%|██████████| 60/60 [00:00<00:00, 168.88it/s]\n",
      "  0%|          | 0/20 [00:00<?, ?it/s]"
     ]
    },
    {
     "name": "stdout",
     "output_type": "stream",
     "text": [
      "score: 0.7512317490836988\n",
      "time_elased: 5.944955348968506\n",
      "tensor([[  0,   0,   0,  ..., 869, 870, 870],\n",
      "        [  1,   2, 511,  ..., 870, 865, 869]])\n",
      "Training Explainer\n"
     ]
    },
    {
     "name": "stderr",
     "output_type": "stream",
     "text": [
      "100%|██████████| 20/20 [00:13<00:00,  1.48it/s]\n",
      "100%|██████████| 60/60 [00:00<00:00, 191.04it/s]\n",
      "  0%|          | 0/20 [00:00<?, ?it/s]"
     ]
    },
    {
     "name": "stdout",
     "output_type": "stream",
     "text": [
      "score: 0.7812879288589796\n",
      "time_elased: 5.313233534495035\n",
      "tensor([[  0,   0,   0,  ..., 869, 870, 870],\n",
      "        [  1,   2, 511,  ..., 870, 865, 869]])\n",
      "Training Explainer\n"
     ]
    },
    {
     "name": "stderr",
     "output_type": "stream",
     "text": [
      "100%|██████████| 20/20 [00:12<00:00,  1.59it/s]\n",
      "100%|██████████| 60/60 [00:00<00:00, 197.09it/s]\n",
      "  0%|          | 0/20 [00:00<?, ?it/s]"
     ]
    },
    {
     "name": "stdout",
     "output_type": "stream",
     "text": [
      "score: 0.756421618698552\n",
      "time_elased: 5.096717675526937\n",
      "tensor([[  0,   0,   0,  ..., 869, 870, 870],\n",
      "        [  1,   2, 511,  ..., 870, 865, 869]])\n",
      "Training Explainer\n"
     ]
    },
    {
     "name": "stderr",
     "output_type": "stream",
     "text": [
      "100%|██████████| 20/20 [00:12<00:00,  1.54it/s]\n",
      "100%|██████████| 60/60 [00:00<00:00, 191.56it/s]\n",
      "  0%|          | 0/20 [00:00<?, ?it/s]"
     ]
    },
    {
     "name": "stdout",
     "output_type": "stream",
     "text": [
      "score: 0.7607132127621222\n",
      "time_elased: 5.248479048411052\n",
      "10 0.0001\n",
      "Loading syn3 dataset\n",
      "This model obtained: Train Acc: 0.9425, Val Acc: 0.9770, Test Acc: 0.9432.\n",
      "range(511, 871, 6)\n",
      "Test\n",
      "tensor([[  0,   0,   0,  ..., 869, 870, 870],\n",
      "        [  1,   2, 511,  ..., 870, 865, 869]])\n",
      "Training Explainer\n"
     ]
    },
    {
     "name": "stderr",
     "output_type": "stream",
     "text": [
      "100%|██████████| 20/20 [00:12<00:00,  1.54it/s]\n",
      "100%|██████████| 60/60 [00:00<00:00, 180.30it/s]\n",
      "  0%|          | 0/20 [00:00<?, ?it/s]"
     ]
    },
    {
     "name": "stdout",
     "output_type": "stream",
     "text": [
      "score: 0.7767229465841495\n",
      "time_elased: 5.571198463439941\n",
      "tensor([[  0,   0,   0,  ..., 869, 870, 870],\n",
      "        [  1,   2, 511,  ..., 870, 865, 869]])\n",
      "Training Explainer\n"
     ]
    },
    {
     "name": "stderr",
     "output_type": "stream",
     "text": [
      "100%|██████████| 20/20 [00:12<00:00,  1.66it/s]\n",
      "100%|██████████| 60/60 [00:00<00:00, 174.10it/s]\n",
      "  0%|          | 0/20 [00:00<?, ?it/s]"
     ]
    },
    {
     "name": "stdout",
     "output_type": "stream",
     "text": [
      "score: 0.7622979631076128\n",
      "time_elased: 5.766050020853678\n",
      "tensor([[  0,   0,   0,  ..., 869, 870, 870],\n",
      "        [  1,   2, 511,  ..., 870, 865, 869]])\n",
      "Training Explainer\n"
     ]
    },
    {
     "name": "stderr",
     "output_type": "stream",
     "text": [
      "100%|██████████| 20/20 [00:15<00:00,  1.25it/s]\n",
      "100%|██████████| 60/60 [00:00<00:00, 177.34it/s]\n",
      "  0%|          | 0/20 [00:00<?, ?it/s]"
     ]
    },
    {
     "name": "stdout",
     "output_type": "stream",
     "text": [
      "score: 0.7407273328125938\n",
      "time_elased: 5.6715647379557295\n",
      "tensor([[  0,   0,   0,  ..., 869, 870, 870],\n",
      "        [  1,   2, 511,  ..., 870, 865, 869]])\n",
      "Training Explainer\n"
     ]
    },
    {
     "name": "stderr",
     "output_type": "stream",
     "text": [
      "100%|██████████| 20/20 [00:12<00:00,  1.57it/s]\n",
      "100%|██████████| 60/60 [00:00<00:00, 114.55it/s]\n",
      "  0%|          | 0/20 [00:00<?, ?it/s]"
     ]
    },
    {
     "name": "stdout",
     "output_type": "stream",
     "text": [
      "score: 0.7857327404914979\n",
      "time_elased: 8.757297197977703\n",
      "tensor([[  0,   0,   0,  ..., 869, 870, 870],\n",
      "        [  1,   2, 511,  ..., 870, 865, 869]])\n",
      "Training Explainer\n"
     ]
    },
    {
     "name": "stderr",
     "output_type": "stream",
     "text": [
      "100%|██████████| 20/20 [00:14<00:00,  1.41it/s]\n",
      "100%|██████████| 60/60 [00:00<00:00, 189.42it/s]\n",
      "  0%|          | 0/20 [00:00<?, ?it/s]"
     ]
    },
    {
     "name": "stdout",
     "output_type": "stream",
     "text": [
      "score: 0.7577510064291294\n",
      "time_elased: 5.302119255065918\n",
      "tensor([[  0,   0,   0,  ..., 869, 870, 870],\n",
      "        [  1,   2, 511,  ..., 870, 865, 869]])\n",
      "Training Explainer\n"
     ]
    },
    {
     "name": "stderr",
     "output_type": "stream",
     "text": [
      "100%|██████████| 20/20 [00:13<00:00,  1.46it/s]\n",
      "100%|██████████| 60/60 [00:00<00:00, 117.82it/s]\n",
      "  0%|          | 0/20 [00:00<?, ?it/s]"
     ]
    },
    {
     "name": "stdout",
     "output_type": "stream",
     "text": [
      "score: 0.744975365018326\n",
      "time_elased: 8.559032281239828\n",
      "tensor([[  0,   0,   0,  ..., 869, 870, 870],\n",
      "        [  1,   2, 511,  ..., 870, 865, 869]])\n",
      "Training Explainer\n"
     ]
    },
    {
     "name": "stderr",
     "output_type": "stream",
     "text": [
      "100%|██████████| 20/20 [00:19<00:00,  1.00it/s]\n",
      "100%|██████████| 60/60 [00:00<00:00, 130.36it/s]\n",
      "  0%|          | 0/20 [00:00<?, ?it/s]"
     ]
    },
    {
     "name": "stdout",
     "output_type": "stream",
     "text": [
      "score: 0.7512317490836988\n",
      "time_elased: 7.700248559316\n",
      "tensor([[  0,   0,   0,  ..., 869, 870, 870],\n",
      "        [  1,   2, 511,  ..., 870, 865, 869]])\n",
      "Training Explainer\n"
     ]
    },
    {
     "name": "stderr",
     "output_type": "stream",
     "text": [
      "100%|██████████| 20/20 [00:17<00:00,  1.17it/s]\n",
      "100%|██████████| 60/60 [00:00<00:00, 134.15it/s]\n",
      "  0%|          | 0/20 [00:00<?, ?it/s]"
     ]
    },
    {
     "name": "stdout",
     "output_type": "stream",
     "text": [
      "score: 0.7812879288589796\n",
      "time_elased: 7.4776291847229\n",
      "tensor([[  0,   0,   0,  ..., 869, 870, 870],\n",
      "        [  1,   2, 511,  ..., 870, 865, 869]])\n",
      "Training Explainer\n"
     ]
    },
    {
     "name": "stderr",
     "output_type": "stream",
     "text": [
      "100%|██████████| 20/20 [00:17<00:00,  1.14it/s]\n",
      "100%|██████████| 60/60 [00:00<00:00, 123.76it/s]\n",
      "  0%|          | 0/20 [00:00<?, ?it/s]"
     ]
    },
    {
     "name": "stdout",
     "output_type": "stream",
     "text": [
      "score: 0.756421618698552\n",
      "time_elased: 8.129998048146566\n",
      "tensor([[  0,   0,   0,  ..., 869, 870, 870],\n",
      "        [  1,   2, 511,  ..., 870, 865, 869]])\n",
      "Training Explainer\n"
     ]
    },
    {
     "name": "stderr",
     "output_type": "stream",
     "text": [
      "100%|██████████| 20/20 [00:20<00:00,  1.00s/it]\n",
      "100%|██████████| 60/60 [00:00<00:00, 152.51it/s]\n",
      "  0%|          | 0/20 [00:00<?, ?it/s]"
     ]
    },
    {
     "name": "stdout",
     "output_type": "stream",
     "text": [
      "score: 0.7607132127621222\n",
      "time_elased: 6.582283973693848\n",
      "1.0 10\n",
      "Loading syn3 dataset\n",
      "This model obtained: Train Acc: 0.9425, Val Acc: 0.9770, Test Acc: 0.9432.\n",
      "range(511, 871, 6)\n",
      "Test\n",
      "tensor([[  0,   0,   0,  ..., 869, 870, 870],\n",
      "        [  1,   2, 511,  ..., 870, 865, 869]])\n",
      "Training Explainer\n"
     ]
    },
    {
     "name": "stderr",
     "output_type": "stream",
     "text": [
      "100%|██████████| 20/20 [00:14<00:00,  1.39it/s]\n",
      "100%|██████████| 60/60 [00:00<00:00, 161.96it/s]\n",
      "  0%|          | 0/20 [00:00<?, ?it/s]"
     ]
    },
    {
     "name": "stdout",
     "output_type": "stream",
     "text": [
      "score: 0.7769918283963227\n",
      "time_elased: 6.208614508310953\n",
      "tensor([[  0,   0,   0,  ..., 869, 870, 870],\n",
      "        [  1,   2, 511,  ..., 870, 865, 869]])\n",
      "Training Explainer\n"
     ]
    },
    {
     "name": "stderr",
     "output_type": "stream",
     "text": [
      "100%|██████████| 20/20 [00:24<00:00,  1.20s/it]\n",
      "100%|██████████| 60/60 [00:00<00:00, 107.45it/s]\n",
      "  0%|          | 0/20 [00:00<?, ?it/s]"
     ]
    },
    {
     "name": "stdout",
     "output_type": "stream",
     "text": [
      "score: 0.7626614793006068\n",
      "time_elased: 9.344379107157389\n",
      "tensor([[  0,   0,   0,  ..., 869, 870, 870],\n",
      "        [  1,   2, 511,  ..., 870, 865, 869]])\n",
      "Training Explainer\n"
     ]
    },
    {
     "name": "stderr",
     "output_type": "stream",
     "text": [
      "100%|██████████| 20/20 [00:19<00:00,  1.00it/s]\n",
      "100%|██████████| 60/60 [00:00<00:00, 89.24it/s]\n",
      "  0%|          | 0/20 [00:00<?, ?it/s]"
     ]
    },
    {
     "name": "stdout",
     "output_type": "stream",
     "text": [
      "score: 0.7413281860241543\n",
      "time_elased: 11.26025120417277\n",
      "tensor([[  0,   0,   0,  ..., 869, 870, 870],\n",
      "        [  1,   2, 511,  ..., 870, 865, 869]])\n",
      "Training Explainer\n"
     ]
    },
    {
     "name": "stderr",
     "output_type": "stream",
     "text": [
      "100%|██████████| 20/20 [00:25<00:00,  1.27s/it]\n",
      "100%|██████████| 60/60 [00:00<00:00, 89.58it/s] \n",
      "  0%|          | 0/20 [00:00<?, ?it/s]"
     ]
    },
    {
     "name": "stdout",
     "output_type": "stream",
     "text": [
      "score: 0.785731238358469\n",
      "time_elased: 11.223781108856201\n",
      "tensor([[  0,   0,   0,  ..., 869, 870, 870],\n",
      "        [  1,   2, 511,  ..., 870, 865, 869]])\n",
      "Training Explainer\n"
     ]
    },
    {
     "name": "stderr",
     "output_type": "stream",
     "text": [
      "100%|██████████| 20/20 [00:16<00:00,  1.18it/s]\n",
      "100%|██████████| 60/60 [00:00<00:00, 89.30it/s]\n",
      "  0%|          | 0/20 [00:00<?, ?it/s]"
     ]
    },
    {
     "name": "stdout",
     "output_type": "stream",
     "text": [
      "score: 0.7579943519798114\n",
      "time_elased: 11.237700780232748\n",
      "tensor([[  0,   0,   0,  ..., 869, 870, 870],\n",
      "        [  1,   2, 511,  ..., 870, 865, 869]])\n",
      "Training Explainer\n"
     ]
    },
    {
     "name": "stderr",
     "output_type": "stream",
     "text": [
      "100%|██████████| 20/20 [00:22<00:00,  1.11s/it]\n",
      "100%|██████████| 60/60 [00:01<00:00, 53.59it/s]\n",
      "  0%|          | 0/20 [00:00<?, ?it/s]"
     ]
    },
    {
     "name": "stdout",
     "output_type": "stream",
     "text": [
      "score: 0.7462897314186143\n",
      "time_elased: 18.6981995900472\n",
      "tensor([[  0,   0,   0,  ..., 869, 870, 870],\n",
      "        [  1,   2, 511,  ..., 870, 865, 869]])\n",
      "Training Explainer\n"
     ]
    },
    {
     "name": "stderr",
     "output_type": "stream",
     "text": [
      "100%|██████████| 20/20 [00:17<00:00,  1.11it/s]\n",
      "100%|██████████| 60/60 [00:00<00:00, 169.58it/s]\n",
      "  0%|          | 0/20 [00:00<?, ?it/s]"
     ]
    },
    {
     "name": "stdout",
     "output_type": "stream",
     "text": [
      "score: 0.750684972661179\n",
      "time_elased: 5.91957966486613\n",
      "tensor([[  0,   0,   0,  ..., 869, 870, 870],\n",
      "        [  1,   2, 511,  ..., 870, 865, 869]])\n",
      "Training Explainer\n"
     ]
    },
    {
     "name": "stderr",
     "output_type": "stream",
     "text": [
      "100%|██████████| 20/20 [00:16<00:00,  1.22it/s]\n",
      "100%|██████████| 60/60 [00:00<00:00, 122.50it/s]\n",
      "  0%|          | 0/20 [00:00<?, ?it/s]"
     ]
    },
    {
     "name": "stdout",
     "output_type": "stream",
     "text": [
      "score: 0.7812563840653728\n",
      "time_elased: 8.184882005055744\n",
      "tensor([[  0,   0,   0,  ..., 869, 870, 870],\n",
      "        [  1,   2, 511,  ..., 870, 865, 869]])\n",
      "Training Explainer\n"
     ]
    },
    {
     "name": "stderr",
     "output_type": "stream",
     "text": [
      "100%|██████████| 20/20 [00:17<00:00,  1.17it/s]\n",
      "100%|██████████| 60/60 [00:01<00:00, 53.61it/s]\n",
      "  0%|          | 0/20 [00:00<?, ?it/s]"
     ]
    },
    {
     "name": "stdout",
     "output_type": "stream",
     "text": [
      "score: 0.7564591720242744\n",
      "time_elased: 18.7861164410909\n",
      "tensor([[  0,   0,   0,  ..., 869, 870, 870],\n",
      "        [  1,   2, 511,  ..., 870, 865, 869]])\n",
      "Training Explainer\n"
     ]
    },
    {
     "name": "stderr",
     "output_type": "stream",
     "text": [
      "100%|██████████| 20/20 [00:19<00:00,  1.05it/s]\n",
      "100%|██████████| 60/60 [00:00<00:00, 117.88it/s]\n",
      "  0%|          | 0/20 [00:00<?, ?it/s]"
     ]
    },
    {
     "name": "stdout",
     "output_type": "stream",
     "text": [
      "score: 0.7614087003545035\n",
      "time_elased: 8.50834846496582\n",
      "1.0 1.0\n",
      "Loading syn3 dataset\n",
      "This model obtained: Train Acc: 0.9425, Val Acc: 0.9770, Test Acc: 0.9432.\n",
      "range(511, 871, 6)\n",
      "Test\n",
      "tensor([[  0,   0,   0,  ..., 869, 870, 870],\n",
      "        [  1,   2, 511,  ..., 870, 865, 869]])\n",
      "Training Explainer\n"
     ]
    },
    {
     "name": "stderr",
     "output_type": "stream",
     "text": [
      "100%|██████████| 20/20 [00:14<00:00,  1.40it/s]\n",
      "100%|██████████| 60/60 [00:00<00:00, 113.21it/s]\n",
      "  0%|          | 0/20 [00:00<?, ?it/s]"
     ]
    },
    {
     "name": "stdout",
     "output_type": "stream",
     "text": [
      "score: 0.77664032926756\n",
      "time_elased: 8.86678695678711\n",
      "tensor([[  0,   0,   0,  ..., 869, 870, 870],\n",
      "        [  1,   2, 511,  ..., 870, 865, 869]])\n",
      "Training Explainer\n"
     ]
    },
    {
     "name": "stderr",
     "output_type": "stream",
     "text": [
      "100%|██████████| 20/20 [00:14<00:00,  1.40it/s]\n",
      "100%|██████████| 60/60 [00:00<00:00, 109.98it/s]\n",
      "  0%|          | 0/20 [00:00<?, ?it/s]"
     ]
    },
    {
     "name": "stdout",
     "output_type": "stream",
     "text": [
      "score: 0.7621807967313585\n",
      "time_elased: 9.120182196299234\n",
      "tensor([[  0,   0,   0,  ..., 869, 870, 870],\n",
      "        [  1,   2, 511,  ..., 870, 865, 869]])\n",
      "Training Explainer\n"
     ]
    },
    {
     "name": "stderr",
     "output_type": "stream",
     "text": [
      "100%|██████████| 20/20 [00:19<00:00,  1.05it/s]\n",
      "100%|██████████| 60/60 [00:00<00:00, 103.29it/s]\n",
      "  0%|          | 0/20 [00:00<?, ?it/s]"
     ]
    },
    {
     "name": "stdout",
     "output_type": "stream",
     "text": [
      "score: 0.7409661719641891\n",
      "time_elased: 9.73294973373413\n",
      "tensor([[  0,   0,   0,  ..., 869, 870, 870],\n",
      "        [  1,   2, 511,  ..., 870, 865, 869]])\n",
      "Training Explainer\n"
     ]
    },
    {
     "name": "stderr",
     "output_type": "stream",
     "text": [
      "100%|██████████| 20/20 [00:19<00:00,  1.04it/s]\n",
      "100%|██████████| 60/60 [00:00<00:00, 123.55it/s]\n",
      "  0%|          | 0/20 [00:00<?, ?it/s]"
     ]
    },
    {
     "name": "stdout",
     "output_type": "stream",
     "text": [
      "score: 0.7857124616956077\n",
      "time_elased: 8.18936824798584\n",
      "tensor([[  0,   0,   0,  ..., 869, 870, 870],\n",
      "        [  1,   2, 511,  ..., 870, 865, 869]])\n",
      "Training Explainer\n"
     ]
    },
    {
     "name": "stderr",
     "output_type": "stream",
     "text": [
      "100%|██████████| 20/20 [00:19<00:00,  1.05it/s]\n",
      "100%|██████████| 60/60 [00:00<00:00, 132.11it/s]\n",
      "  0%|          | 0/20 [00:00<?, ?it/s]"
     ]
    },
    {
     "name": "stdout",
     "output_type": "stream",
     "text": [
      "score: 0.7577449978970137\n",
      "time_elased: 7.622365156809489\n",
      "tensor([[  0,   0,   0,  ..., 869, 870, 870],\n",
      "        [  1,   2, 511,  ..., 870, 865, 869]])\n",
      "Training Explainer\n"
     ]
    },
    {
     "name": "stderr",
     "output_type": "stream",
     "text": [
      "100%|██████████| 20/20 [00:19<00:00,  1.01it/s]\n",
      "100%|██████████| 60/60 [00:00<00:00, 75.23it/s]\n",
      "  0%|          | 0/20 [00:00<?, ?it/s]"
     ]
    },
    {
     "name": "stdout",
     "output_type": "stream",
     "text": [
      "score: 0.7449768671513549\n",
      "time_elased: 13.329100608825684\n",
      "tensor([[  0,   0,   0,  ..., 869, 870, 870],\n",
      "        [  1,   2, 511,  ..., 870, 865, 869]])\n",
      "Training Explainer\n"
     ]
    },
    {
     "name": "stderr",
     "output_type": "stream",
     "text": [
      "100%|██████████| 20/20 [00:19<00:00,  1.01it/s]\n",
      "100%|██████████| 60/60 [00:00<00:00, 146.30it/s]\n",
      "  0%|          | 0/20 [00:00<?, ?it/s]"
     ]
    },
    {
     "name": "stdout",
     "output_type": "stream",
     "text": [
      "score: 0.7507014961244968\n",
      "time_elased: 6.862819194793701\n",
      "tensor([[  0,   0,   0,  ..., 869, 870, 870],\n",
      "        [  1,   2, 511,  ..., 870, 865, 869]])\n",
      "Training Explainer\n"
     ]
    },
    {
     "name": "stderr",
     "output_type": "stream",
     "text": [
      "100%|██████████| 20/20 [00:17<00:00,  1.15it/s]\n",
      "100%|██████████| 60/60 [00:00<00:00, 153.38it/s]\n",
      "  0%|          | 0/20 [00:00<?, ?it/s]"
     ]
    },
    {
     "name": "stdout",
     "output_type": "stream",
     "text": [
      "score: 0.7811392176891185\n",
      "time_elased: 6.543882687886556\n",
      "tensor([[  0,   0,   0,  ..., 869, 870, 870],\n",
      "        [  1,   2, 511,  ..., 870, 865, 869]])\n",
      "Training Explainer\n"
     ]
    },
    {
     "name": "stderr",
     "output_type": "stream",
     "text": [
      "100%|██████████| 20/20 [00:15<00:00,  1.27it/s]\n",
      "100%|██████████| 60/60 [00:00<00:00, 93.02it/s]\n",
      "  0%|          | 0/20 [00:00<?, ?it/s]"
     ]
    },
    {
     "name": "stdout",
     "output_type": "stream",
     "text": [
      "score: 0.7563465120471069\n",
      "time_elased: 10.786843299865723\n",
      "tensor([[  0,   0,   0,  ..., 869, 870, 870],\n",
      "        [  1,   2, 511,  ..., 870, 865, 869]])\n",
      "Training Explainer\n"
     ]
    },
    {
     "name": "stderr",
     "output_type": "stream",
     "text": [
      "100%|██████████| 20/20 [00:15<00:00,  1.30it/s]\n",
      "100%|██████████| 60/60 [00:00<00:00, 165.96it/s]\n",
      "  0%|          | 0/20 [00:00<?, ?it/s]"
     ]
    },
    {
     "name": "stdout",
     "output_type": "stream",
     "text": [
      "score: 0.7607507660878448\n",
      "time_elased: 6.04791243871053\n",
      "1.0 0.1\n",
      "Loading syn3 dataset\n",
      "This model obtained: Train Acc: 0.9425, Val Acc: 0.9770, Test Acc: 0.9432.\n",
      "range(511, 871, 6)\n",
      "Test\n",
      "tensor([[  0,   0,   0,  ..., 869, 870, 870],\n",
      "        [  1,   2, 511,  ..., 870, 865, 869]])\n",
      "Training Explainer\n"
     ]
    },
    {
     "name": "stderr",
     "output_type": "stream",
     "text": [
      "100%|██████████| 20/20 [00:17<00:00,  1.16it/s]\n",
      "100%|██████████| 60/60 [00:00<00:00, 125.48it/s]\n",
      "  0%|          | 0/20 [00:00<?, ?it/s]"
     ]
    },
    {
     "name": "stdout",
     "output_type": "stream",
     "text": [
      "score: 0.7765817460794328\n",
      "time_elased: 8.004248142242432\n",
      "tensor([[  0,   0,   0,  ..., 869, 870, 870],\n",
      "        [  1,   2, 511,  ..., 870, 865, 869]])\n",
      "Training Explainer\n"
     ]
    },
    {
     "name": "stderr",
     "output_type": "stream",
     "text": [
      "100%|██████████| 20/20 [00:17<00:00,  1.14it/s]\n",
      "100%|██████████| 60/60 [00:00<00:00, 151.89it/s]\n",
      "  0%|          | 0/20 [00:00<?, ?it/s]"
     ]
    },
    {
     "name": "stdout",
     "output_type": "stream",
     "text": [
      "score: 0.7621101964790002\n",
      "time_elased: 6.627154350280762\n",
      "tensor([[  0,   0,   0,  ..., 869, 870, 870],\n",
      "        [  1,   2, 511,  ..., 870, 865, 869]])\n",
      "Training Explainer\n"
     ]
    },
    {
     "name": "stderr",
     "output_type": "stream",
     "text": [
      "100%|██████████| 20/20 [00:17<00:00,  1.13it/s]\n",
      "100%|██████████| 60/60 [00:00<00:00, 96.71it/s]\n",
      "  0%|          | 0/20 [00:00<?, ?it/s]"
     ]
    },
    {
     "name": "stdout",
     "output_type": "stream",
     "text": [
      "score: 0.7409271165054377\n",
      "time_elased: 10.48251787821452\n",
      "tensor([[  0,   0,   0,  ..., 869, 870, 870],\n",
      "        [  1,   2, 511,  ..., 870, 865, 869]])\n",
      "Training Explainer\n"
     ]
    },
    {
     "name": "stderr",
     "output_type": "stream",
     "text": [
      "100%|██████████| 20/20 [00:17<00:00,  1.13it/s]\n",
      "100%|██████████| 60/60 [00:00<00:00, 151.65it/s]\n",
      "  0%|          | 0/20 [00:00<?, ?it/s]"
     ]
    },
    {
     "name": "stdout",
     "output_type": "stream",
     "text": [
      "score: 0.7857102084960644\n",
      "time_elased: 6.637283166249593\n",
      "tensor([[  0,   0,   0,  ..., 869, 870, 870],\n",
      "        [  1,   2, 511,  ..., 870, 865, 869]])\n",
      "Training Explainer\n"
     ]
    },
    {
     "name": "stderr",
     "output_type": "stream",
     "text": [
      "100%|██████████| 20/20 [00:16<00:00,  1.19it/s]\n",
      "100%|██████████| 60/60 [00:00<00:00, 111.32it/s]\n",
      "  0%|          | 0/20 [00:00<?, ?it/s]"
     ]
    },
    {
     "name": "stdout",
     "output_type": "stream",
     "text": [
      "score: 0.7576834104428288\n",
      "time_elased: 9.02011791865031\n",
      "tensor([[  0,   0,   0,  ..., 869, 870, 870],\n",
      "        [  1,   2, 511,  ..., 870, 865, 869]])\n",
      "Training Explainer\n"
     ]
    },
    {
     "name": "stderr",
     "output_type": "stream",
     "text": [
      "100%|██████████| 20/20 [00:19<00:00,  1.02it/s]\n",
      "100%|██████████| 60/60 [00:00<00:00, 175.37it/s]\n",
      "  0%|          | 0/20 [00:00<?, ?it/s]"
     ]
    },
    {
     "name": "stdout",
     "output_type": "stream",
     "text": [
      "score: 0.744960343688037\n",
      "time_elased: 5.727533499399821\n",
      "tensor([[  0,   0,   0,  ..., 869, 870, 870],\n",
      "        [  1,   2, 511,  ..., 870, 865, 869]])\n",
      "Training Explainer\n"
     ]
    },
    {
     "name": "stderr",
     "output_type": "stream",
     "text": [
      "100%|██████████| 20/20 [00:13<00:00,  1.48it/s]\n",
      "100%|██████████| 60/60 [00:00<00:00, 166.32it/s]\n",
      "  0%|          | 0/20 [00:00<?, ?it/s]"
     ]
    },
    {
     "name": "stdout",
     "output_type": "stream",
     "text": [
      "score: 0.7506999939914678\n",
      "time_elased: 6.035935878753662\n",
      "tensor([[  0,   0,   0,  ..., 869, 870, 870],\n",
      "        [  1,   2, 511,  ..., 870, 865, 869]])\n",
      "Training Explainer\n"
     ]
    },
    {
     "name": "stderr",
     "output_type": "stream",
     "text": [
      "100%|██████████| 20/20 [00:14<00:00,  1.37it/s]\n",
      "100%|██████████| 60/60 [00:00<00:00, 131.46it/s]\n",
      "  0%|          | 0/20 [00:00<?, ?it/s]"
     ]
    },
    {
     "name": "stdout",
     "output_type": "stream",
     "text": [
      "score: 0.7811076728955116\n",
      "time_elased: 7.671097914377849\n",
      "tensor([[  0,   0,   0,  ..., 869, 870, 870],\n",
      "        [  1,   2, 511,  ..., 870, 865, 869]])\n",
      "Training Explainer\n"
     ]
    },
    {
     "name": "stderr",
     "output_type": "stream",
     "text": [
      "100%|██████████| 20/20 [00:17<00:00,  1.15it/s]\n",
      "100%|██████████| 60/60 [00:00<00:00, 108.48it/s]\n",
      "  0%|          | 0/20 [00:00<?, ?it/s]"
     ]
    },
    {
     "name": "stdout",
     "output_type": "stream",
     "text": [
      "score: 0.7563179715195577\n",
      "time_elased: 9.34595266977946\n",
      "tensor([[  0,   0,   0,  ..., 869, 870, 870],\n",
      "        [  1,   2, 511,  ..., 870, 865, 869]])\n",
      "Training Explainer\n"
     ]
    },
    {
     "name": "stderr",
     "output_type": "stream",
     "text": [
      "100%|██████████| 20/20 [00:16<00:00,  1.21it/s]\n",
      "100%|██████████| 60/60 [00:00<00:00, 126.36it/s]\n",
      "  0%|          | 0/20 [00:00<?, ?it/s]"
     ]
    },
    {
     "name": "stdout",
     "output_type": "stream",
     "text": [
      "score: 0.7606305954455326\n",
      "time_elased: 7.948017120361328\n",
      "1.0 0.01\n",
      "Loading syn3 dataset\n",
      "This model obtained: Train Acc: 0.9425, Val Acc: 0.9770, Test Acc: 0.9432.\n",
      "range(511, 871, 6)\n",
      "Test\n",
      "tensor([[  0,   0,   0,  ..., 869, 870, 870],\n",
      "        [  1,   2, 511,  ..., 870, 865, 869]])\n",
      "Training Explainer\n"
     ]
    },
    {
     "name": "stderr",
     "output_type": "stream",
     "text": [
      "100%|██████████| 20/20 [00:17<00:00,  1.14it/s]\n",
      "100%|██████████| 60/60 [00:00<00:00, 84.14it/s]\n",
      "  0%|          | 0/20 [00:00<?, ?it/s]"
     ]
    },
    {
     "name": "stdout",
     "output_type": "stream",
     "text": [
      "score: 0.7765727332812595\n",
      "time_elased: 11.934069792429607\n",
      "tensor([[  0,   0,   0,  ..., 869, 870, 870],\n",
      "        [  1,   2, 511,  ..., 870, 865, 869]])\n",
      "Training Explainer\n"
     ]
    },
    {
     "name": "stderr",
     "output_type": "stream",
     "text": [
      "100%|██████████| 20/20 [00:19<00:00,  1.02it/s]\n",
      "100%|██████████| 60/60 [00:00<00:00, 102.10it/s]\n",
      "  0%|          | 0/20 [00:00<?, ?it/s]"
     ]
    },
    {
     "name": "stdout",
     "output_type": "stream",
     "text": [
      "score: 0.76209667728174\n",
      "time_elased: 9.829839070638021\n",
      "tensor([[  0,   0,   0,  ..., 869, 870, 870],\n",
      "        [  1,   2, 511,  ..., 870, 865, 869]])\n",
      "Training Explainer\n"
     ]
    },
    {
     "name": "stderr",
     "output_type": "stream",
     "text": [
      "100%|██████████| 20/20 [00:17<00:00,  1.16it/s]\n",
      "100%|██████████| 60/60 [00:00<00:00, 97.86it/s] \n",
      "  0%|          | 0/20 [00:00<?, ?it/s]"
     ]
    },
    {
     "name": "stdout",
     "output_type": "stream",
     "text": [
      "score: 0.740921107973322\n",
      "time_elased: 10.264813899993896\n",
      "tensor([[  0,   0,   0,  ..., 869, 870, 870],\n",
      "        [  1,   2, 511,  ..., 870, 865, 869]])\n",
      "Training Explainer\n"
     ]
    },
    {
     "name": "stderr",
     "output_type": "stream",
     "text": [
      "100%|██████████| 20/20 [00:21<00:00,  1.05s/it]\n",
      "100%|██████████| 60/60 [00:00<00:00, 85.99it/s]\n",
      "  0%|          | 0/20 [00:00<?, ?it/s]"
     ]
    },
    {
     "name": "stdout",
     "output_type": "stream",
     "text": [
      "score: 0.7857102084960643\n",
      "time_elased: 11.667335033416748\n",
      "tensor([[  0,   0,   0,  ..., 869, 870, 870],\n",
      "        [  1,   2, 511,  ..., 870, 865, 869]])\n",
      "Training Explainer\n"
     ]
    },
    {
     "name": "stderr",
     "output_type": "stream",
     "text": [
      "100%|██████████| 20/20 [00:22<00:00,  1.10s/it]\n",
      "100%|██████████| 60/60 [00:00<00:00, 151.38it/s]\n",
      "  0%|          | 0/20 [00:00<?, ?it/s]"
     ]
    },
    {
     "name": "stdout",
     "output_type": "stream",
     "text": [
      "score: 0.7576789040437422\n",
      "time_elased: 6.63529634475708\n",
      "tensor([[  0,   0,   0,  ..., 869, 870, 870],\n",
      "        [  1,   2, 511,  ..., 870, 865, 869]])\n",
      "Training Explainer\n"
     ]
    },
    {
     "name": "stderr",
     "output_type": "stream",
     "text": [
      "100%|██████████| 20/20 [00:17<00:00,  1.15it/s]\n",
      "100%|██████████| 60/60 [00:00<00:00, 141.62it/s]\n",
      "  0%|          | 0/20 [00:00<?, ?it/s]"
     ]
    },
    {
     "name": "stdout",
     "output_type": "stream",
     "text": [
      "score: 0.7449588415550081\n",
      "time_elased: 7.0891618728637695\n",
      "tensor([[  0,   0,   0,  ..., 869, 870, 870],\n",
      "        [  1,   2, 511,  ..., 870, 865, 869]])\n",
      "Training Explainer\n"
     ]
    },
    {
     "name": "stderr",
     "output_type": "stream",
     "text": [
      "100%|██████████| 20/20 [00:18<00:00,  1.08it/s]\n",
      "100%|██████████| 60/60 [00:00<00:00, 104.30it/s]\n",
      "  0%|          | 0/20 [00:00<?, ?it/s]"
     ]
    },
    {
     "name": "stdout",
     "output_type": "stream",
     "text": [
      "score: 0.7507007450579823\n",
      "time_elased: 9.65055227279663\n",
      "tensor([[  0,   0,   0,  ..., 869, 870, 870],\n",
      "        [  1,   2, 511,  ..., 870, 865, 869]])\n",
      "Training Explainer\n"
     ]
    },
    {
     "name": "stderr",
     "output_type": "stream",
     "text": [
      "100%|██████████| 20/20 [00:18<00:00,  1.05it/s]\n",
      "100%|██████████| 60/60 [00:00<00:00, 151.85it/s]\n",
      "  0%|          | 0/20 [00:00<?, ?it/s]"
     ]
    },
    {
     "name": "stdout",
     "output_type": "stream",
     "text": [
      "score: 0.7811061707624827\n",
      "time_elased: 6.610818703969319\n",
      "tensor([[  0,   0,   0,  ..., 869, 870, 870],\n",
      "        [  1,   2, 511,  ..., 870, 865, 869]])\n",
      "Training Explainer\n"
     ]
    },
    {
     "name": "stderr",
     "output_type": "stream",
     "text": [
      "100%|██████████| 20/20 [00:18<00:00,  1.05it/s]\n",
      "100%|██████████| 60/60 [00:00<00:00, 161.67it/s]\n",
      "  0%|          | 0/20 [00:00<?, ?it/s]"
     ]
    },
    {
     "name": "stdout",
     "output_type": "stream",
     "text": [
      "score: 0.7563164693865289\n",
      "time_elased: 6.216231981913249\n",
      "tensor([[  0,   0,   0,  ..., 869, 870, 870],\n",
      "        [  1,   2, 511,  ..., 870, 865, 869]])\n",
      "Training Explainer\n"
     ]
    },
    {
     "name": "stderr",
     "output_type": "stream",
     "text": [
      "100%|██████████| 20/20 [00:14<00:00,  1.36it/s]\n",
      "100%|██████████| 60/60 [00:00<00:00, 112.36it/s]\n",
      "  0%|          | 0/20 [00:00<?, ?it/s]"
     ]
    },
    {
     "name": "stdout",
     "output_type": "stream",
     "text": [
      "score: 0.7606245869134171\n",
      "time_elased: 8.925330638885498\n",
      "1.0 0.001\n",
      "Loading syn3 dataset\n",
      "This model obtained: Train Acc: 0.9425, Val Acc: 0.9770, Test Acc: 0.9432.\n",
      "range(511, 871, 6)\n",
      "Test\n",
      "tensor([[  0,   0,   0,  ..., 869, 870, 870],\n",
      "        [  1,   2, 511,  ..., 870, 865, 869]])\n",
      "Training Explainer\n"
     ]
    },
    {
     "name": "stderr",
     "output_type": "stream",
     "text": [
      "100%|██████████| 20/20 [00:16<00:00,  1.20it/s]\n",
      "100%|██████████| 60/60 [00:00<00:00, 97.74it/s] \n",
      "  0%|          | 0/20 [00:00<?, ?it/s]"
     ]
    },
    {
     "name": "stdout",
     "output_type": "stream",
     "text": [
      "score: 0.7765727332812594\n",
      "time_elased: 10.26064952214559\n",
      "tensor([[  0,   0,   0,  ..., 869, 870, 870],\n",
      "        [  1,   2, 511,  ..., 870, 865, 869]])\n",
      "Training Explainer\n"
     ]
    },
    {
     "name": "stderr",
     "output_type": "stream",
     "text": [
      "100%|██████████| 20/20 [00:15<00:00,  1.27it/s]\n",
      "100%|██████████| 60/60 [00:00<00:00, 160.45it/s]\n",
      "  0%|          | 0/20 [00:00<?, ?it/s]"
     ]
    },
    {
     "name": "stdout",
     "output_type": "stream",
     "text": [
      "score: 0.76209667728174\n",
      "time_elased: 6.27144972483317\n",
      "tensor([[  0,   0,   0,  ..., 869, 870, 870],\n",
      "        [  1,   2, 511,  ..., 870, 865, 869]])\n",
      "Training Explainer\n"
     ]
    },
    {
     "name": "stderr",
     "output_type": "stream",
     "text": [
      "100%|██████████| 20/20 [00:15<00:00,  1.26it/s]\n",
      "100%|██████████| 60/60 [00:00<00:00, 103.47it/s]\n",
      "  0%|          | 0/20 [00:00<?, ?it/s]"
     ]
    },
    {
     "name": "stdout",
     "output_type": "stream",
     "text": [
      "score: 0.7409211079733221\n",
      "time_elased: 9.704446792602539\n",
      "tensor([[  0,   0,   0,  ..., 869, 870, 870],\n",
      "        [  1,   2, 511,  ..., 870, 865, 869]])\n",
      "Training Explainer\n"
     ]
    },
    {
     "name": "stderr",
     "output_type": "stream",
     "text": [
      "100%|██████████| 20/20 [00:14<00:00,  1.35it/s]\n",
      "100%|██████████| 60/60 [00:00<00:00, 86.05it/s]\n",
      "  0%|          | 0/20 [00:00<?, ?it/s]"
     ]
    },
    {
     "name": "stdout",
     "output_type": "stream",
     "text": [
      "score: 0.7857102084960644\n",
      "time_elased: 11.655247211456299\n",
      "tensor([[  0,   0,   0,  ..., 869, 870, 870],\n",
      "        [  1,   2, 511,  ..., 870, 865, 869]])\n",
      "Training Explainer\n"
     ]
    },
    {
     "name": "stderr",
     "output_type": "stream",
     "text": [
      "100%|██████████| 20/20 [00:23<00:00,  1.20s/it]\n",
      "100%|██████████| 60/60 [00:00<00:00, 125.41it/s]\n",
      "  0%|          | 0/20 [00:00<?, ?it/s]"
     ]
    },
    {
     "name": "stdout",
     "output_type": "stream",
     "text": [
      "score: 0.757678904043742\n",
      "time_elased: 8.015179634094238\n",
      "tensor([[  0,   0,   0,  ..., 869, 870, 870],\n",
      "        [  1,   2, 511,  ..., 870, 865, 869]])\n",
      "Training Explainer\n"
     ]
    },
    {
     "name": "stderr",
     "output_type": "stream",
     "text": [
      "100%|██████████| 20/20 [00:23<00:00,  1.19s/it]\n",
      "100%|██████████| 60/60 [00:00<00:00, 78.88it/s]\n",
      "  0%|          | 0/20 [00:00<?, ?it/s]"
     ]
    },
    {
     "name": "stdout",
     "output_type": "stream",
     "text": [
      "score: 0.744958841555008\n",
      "time_elased: 12.735267480214437\n",
      "tensor([[  0,   0,   0,  ..., 869, 870, 870],\n",
      "        [  1,   2, 511,  ..., 870, 865, 869]])\n",
      "Training Explainer\n"
     ]
    },
    {
     "name": "stderr",
     "output_type": "stream",
     "text": [
      "100%|██████████| 20/20 [00:16<00:00,  1.18it/s]\n",
      "100%|██████████| 60/60 [00:00<00:00, 98.11it/s] \n",
      "  0%|          | 0/20 [00:00<?, ?it/s]"
     ]
    },
    {
     "name": "stdout",
     "output_type": "stream",
     "text": [
      "score: 0.750698491858439\n",
      "time_elased: 10.280017058054607\n",
      "tensor([[  0,   0,   0,  ..., 869, 870, 870],\n",
      "        [  1,   2, 511,  ..., 870, 865, 869]])\n",
      "Training Explainer\n"
     ]
    },
    {
     "name": "stderr",
     "output_type": "stream",
     "text": [
      "100%|██████████| 20/20 [00:24<00:00,  1.24s/it]\n",
      "100%|██████████| 60/60 [00:00<00:00, 86.36it/s]\n",
      "  0%|          | 0/20 [00:00<?, ?it/s]"
     ]
    },
    {
     "name": "stdout",
     "output_type": "stream",
     "text": [
      "score: 0.7811061707624827\n",
      "time_elased: 11.754949887593588\n",
      "tensor([[  0,   0,   0,  ..., 869, 870, 870],\n",
      "        [  1,   2, 511,  ..., 870, 865, 869]])\n",
      "Training Explainer\n"
     ]
    },
    {
     "name": "stderr",
     "output_type": "stream",
     "text": [
      "100%|██████████| 20/20 [00:16<00:00,  1.25it/s]\n",
      "100%|██████████| 60/60 [00:00<00:00, 131.82it/s]\n",
      "  0%|          | 0/20 [00:00<?, ?it/s]"
     ]
    },
    {
     "name": "stdout",
     "output_type": "stream",
     "text": [
      "score: 0.7563164693865287\n",
      "time_elased: 7.612816492716472\n",
      "tensor([[  0,   0,   0,  ..., 869, 870, 870],\n",
      "        [  1,   2, 511,  ..., 870, 865, 869]])\n",
      "Training Explainer\n"
     ]
    },
    {
     "name": "stderr",
     "output_type": "stream",
     "text": [
      "100%|██████████| 20/20 [00:15<00:00,  1.32it/s]\n",
      "100%|██████████| 60/60 [00:00<00:00, 177.64it/s]\n",
      "  0%|          | 0/20 [00:00<?, ?it/s]"
     ]
    },
    {
     "name": "stdout",
     "output_type": "stream",
     "text": [
      "score: 0.7606245869134171\n",
      "time_elased: 5.672613779703776\n",
      "1.0 0.0001\n",
      "Loading syn3 dataset\n",
      "This model obtained: Train Acc: 0.9425, Val Acc: 0.9770, Test Acc: 0.9432.\n",
      "range(511, 871, 6)\n",
      "Test\n",
      "tensor([[  0,   0,   0,  ..., 869, 870, 870],\n",
      "        [  1,   2, 511,  ..., 870, 865, 869]])\n",
      "Training Explainer\n"
     ]
    },
    {
     "name": "stderr",
     "output_type": "stream",
     "text": [
      "100%|██████████| 20/20 [00:15<00:00,  1.31it/s]\n",
      "100%|██████████| 60/60 [00:00<00:00, 150.59it/s]\n",
      "  0%|          | 0/20 [00:00<?, ?it/s]"
     ]
    },
    {
     "name": "stdout",
     "output_type": "stream",
     "text": [
      "score: 0.7765727332812594\n",
      "time_elased: 6.664268175760905\n",
      "tensor([[  0,   0,   0,  ..., 869, 870, 870],\n",
      "        [  1,   2, 511,  ..., 870, 865, 869]])\n",
      "Training Explainer\n"
     ]
    },
    {
     "name": "stderr",
     "output_type": "stream",
     "text": [
      "100%|██████████| 20/20 [00:14<00:00,  1.37it/s]\n",
      "100%|██████████| 60/60 [00:00<00:00, 165.64it/s]\n",
      "  0%|          | 0/20 [00:00<?, ?it/s]"
     ]
    },
    {
     "name": "stdout",
     "output_type": "stream",
     "text": [
      "score: 0.76209667728174\n",
      "time_elased: 6.069803237915039\n",
      "tensor([[  0,   0,   0,  ..., 869, 870, 870],\n",
      "        [  1,   2, 511,  ..., 870, 865, 869]])\n",
      "Training Explainer\n"
     ]
    },
    {
     "name": "stderr",
     "output_type": "stream",
     "text": [
      "100%|██████████| 20/20 [00:15<00:00,  1.31it/s]\n",
      "100%|██████████| 60/60 [00:00<00:00, 149.94it/s]\n",
      "  0%|          | 0/20 [00:00<?, ?it/s]"
     ]
    },
    {
     "name": "stdout",
     "output_type": "stream",
     "text": [
      "score: 0.740921107973322\n",
      "time_elased: 6.696697076161702\n",
      "tensor([[  0,   0,   0,  ..., 869, 870, 870],\n",
      "        [  1,   2, 511,  ..., 870, 865, 869]])\n",
      "Training Explainer\n"
     ]
    },
    {
     "name": "stderr",
     "output_type": "stream",
     "text": [
      "100%|██████████| 20/20 [00:15<00:00,  1.32it/s]\n",
      "100%|██████████| 60/60 [00:00<00:00, 126.99it/s]\n",
      "  0%|          | 0/20 [00:00<?, ?it/s]"
     ]
    },
    {
     "name": "stdout",
     "output_type": "stream",
     "text": [
      "score: 0.7857102084960643\n",
      "time_elased: 7.899618148803711\n",
      "tensor([[  0,   0,   0,  ..., 869, 870, 870],\n",
      "        [  1,   2, 511,  ..., 870, 865, 869]])\n",
      "Training Explainer\n"
     ]
    },
    {
     "name": "stderr",
     "output_type": "stream",
     "text": [
      "100%|██████████| 20/20 [00:14<00:00,  1.37it/s]\n",
      "100%|██████████| 60/60 [00:00<00:00, 162.15it/s]\n",
      "  0%|          | 0/20 [00:00<?, ?it/s]"
     ]
    },
    {
     "name": "stdout",
     "output_type": "stream",
     "text": [
      "score: 0.757678904043742\n",
      "time_elased: 6.211670239766439\n",
      "tensor([[  0,   0,   0,  ..., 869, 870, 870],\n",
      "        [  1,   2, 511,  ..., 870, 865, 869]])\n",
      "Training Explainer\n"
     ]
    },
    {
     "name": "stderr",
     "output_type": "stream",
     "text": [
      "100%|██████████| 20/20 [00:14<00:00,  1.41it/s]\n",
      "100%|██████████| 60/60 [00:00<00:00, 163.05it/s]\n",
      "  0%|          | 0/20 [00:00<?, ?it/s]"
     ]
    },
    {
     "name": "stdout",
     "output_type": "stream",
     "text": [
      "score: 0.744958841555008\n",
      "time_elased: 6.155661741892497\n",
      "tensor([[  0,   0,   0,  ..., 869, 870, 870],\n",
      "        [  1,   2, 511,  ..., 870, 865, 869]])\n",
      "Training Explainer\n"
     ]
    },
    {
     "name": "stderr",
     "output_type": "stream",
     "text": [
      " 80%|████████  | 16/20 [00:11<00:02,  1.36it/s]"
     ]
    }
   ],
   "source": [
    "results = []\n",
    "    \n",
    "for size in coef_size:\n",
    "    for entropy in coef_entr:\n",
    "        print(size, entropy)\n",
    "        interim_resuts = {}\n",
    "\n",
    "        config.reg_size = size\n",
    "        config.reg_ent = entropy\n",
    "\n",
    "        (auc, std), _ = replication(config, run_qual=False, results_store=False)\n",
    "\n",
    "        interim_resuts[\"AUC\"] = auc\n",
    "        interim_resuts[\"std\"] = std\n",
    "        \n",
    "        res = {\n",
    "            'size' : size,\n",
    "            'entropy' : entropy,\n",
    "            'auc': auc,\n",
    "            'std': std\n",
    "        }\n",
    "        results.append(res)"
   ]
  },
  {
   "cell_type": "code",
   "execution_count": null,
   "metadata": {
    "scrolled": true
   },
   "outputs": [],
   "source": [
    "for r in results:\n",
    "    print(r)"
   ]
  },
  {
   "cell_type": "code",
   "execution_count": null,
   "metadata": {},
   "outputs": [],
   "source": []
  }
 ],
 "metadata": {
  "kernelspec": {
   "display_name": "Python 3",
   "language": "python",
   "name": "python3"
  },
  "language_info": {
   "codemirror_mode": {
    "name": "ipython",
    "version": 3
   },
   "file_extension": ".py",
   "mimetype": "text/x-python",
   "name": "python",
   "nbconvert_exporter": "python",
   "pygments_lexer": "ipython3",
   "version": "3.8.2"
  }
 },
 "nbformat": 4,
 "nbformat_minor": 4
}